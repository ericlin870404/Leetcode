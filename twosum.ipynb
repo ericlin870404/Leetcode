{
 "cells": [
  {
   "cell_type": "code",
   "execution_count": 9,
   "metadata": {},
   "outputs": [
    {
     "name": "stdout",
     "output_type": "stream",
     "text": [
      "i= 0\n",
      "9\n",
      "13\n",
      "17\n",
      "i= 1\n",
      "18\n",
      "i= 2\n",
      "26\n",
      "i= 3\n",
      "1 2\n"
     ]
    }
   ],
   "source": [
    "nums = [2, 7, 11, 15]\n",
    "target = 18\n",
    "# print(len(nums))\n",
    "for i in range(len(nums)):\n",
    "    print(\"i=\", i)\n",
    "    for j in range(i+1, len(nums)):\n",
    "        print(nums[i]+nums[j])\n",
    "        if nums[i]+nums[j] == target:\n",
    "            number1 = i\n",
    "            number2 = j\n",
    "            break\n",
    "print(number1, number2)\n"
   ]
  },
  {
   "cell_type": "markdown",
   "metadata": {},
   "source": [
    "Eric"
   ]
  },
  {
   "cell_type": "code",
   "execution_count": 10,
   "metadata": {},
   "outputs": [],
   "source": [
    "# from typing import List\n",
    "\n",
    "# class Solution:\n",
    "#     def twoSum(self, nums: List[int], target: int) -> List[int]:\n",
    "#         for i in range(len(nums)):\n",
    "#             for j in range(i+1, len(nums)):\n",
    "#                 if nums[i]+nums[j] == target:\n",
    "#                     number1 = i\n",
    "#                     number2 = j\n",
    "#                     break\n",
    "#         return [number1, number2]\n",
    "\n",
    "# from typing import List\n",
    "\n",
    "# class Solution:\n",
    "#     def twoSum(self, nums: List[int], target: int) -> List[int]:\n",
    "#         for i in range(len(nums)):\n",
    "#             for j in range(i+1, len(nums)):\n",
    "#                 if nums[i]+nums[j] == target:\n",
    "#                     return [i, j]  "
   ]
  },
  {
   "cell_type": "markdown",
   "metadata": {},
   "source": [
    "推薦解法"
   ]
  },
  {
   "cell_type": "code",
   "execution_count": 11,
   "metadata": {},
   "outputs": [],
   "source": [
    "from typing import List\n",
    "\n",
    "class Solution:\n",
    "    def twoSum(self, nums: List[int], target: int) -> List[int]:\n",
    "        hashmap = {}\n",
    "        for i in range(len(nums)):\n",
    "            complement = target - nums[i]\n",
    "            if complement in hashmap:\n",
    "                return [i, hashmap[complement]]\n",
    "            hashmap[nums[i]] = i\n",
    "        # Return an empty list if no solution is found\n",
    "        return []\n",
    "# 假設nums = [2, 7, 11, 15], target = 9    \n",
    "# 第一次迴圈 i=0 complement=7 hashmap = {}，\"7\"不在hashmap中所以迴圈繼續，hashmap[2]=0\n",
    "# 第二次迴圈 i=1 complement=2 hashmap = {2:0}，\"2\"存在於hashmap中所以結束迴圈，return [1, 0]"
   ]
  },
  {
   "cell_type": "markdown",
   "metadata": {},
   "source": [
    "實測"
   ]
  },
  {
   "cell_type": "code",
   "execution_count": 12,
   "metadata": {},
   "outputs": [
    {
     "name": "stdout",
     "output_type": "stream",
     "text": [
      "[1, 0]\n"
     ]
    }
   ],
   "source": [
    "solution = Solution()  # 創建 Solution 的實例\n",
    "nums = [2, 7, 11, 15]  # 數字列表\n",
    "target = 9  # 目標值\n",
    "result = solution.twoSum(nums, target)  # 呼叫 twoSum 方法\n",
    "print(result)  # 輸出結果，應該是 [0, 1]，因為 nums[0] + nums[1] = 2 + 7 = 9"
   ]
  },
  {
   "cell_type": "markdown",
   "metadata": {},
   "source": [
    "補充: if ... in 語法"
   ]
  },
  {
   "cell_type": "code",
   "execution_count": 17,
   "metadata": {},
   "outputs": [
    {
     "name": "stdout",
     "output_type": "stream",
     "text": [
      "抓到你摟\n",
      "又抓到你摟\n",
      "哈哈哈ㄏpy\n"
     ]
    }
   ],
   "source": [
    "exist = \"小牛\"\n",
    "# 字典(dic): 僅比較key是否存在，不會比較value\n",
    "dic = {\"小牛\": 26, \"小兔\": 24}\n",
    "if exist in dic:\n",
    "    print(\"抓到你摟\")\n",
    "# 列表(list): 比較陣列內容\n",
    "list = [\"小牛\",26,\"小兔\",24]\n",
    "if exist in list:\n",
    "    print(\"又抓到你摟\")\n",
    "# 字串(string): 比較字串內容\n",
    "string = \"小牛26小兔24\"\n",
    "if exist in string:\n",
    "    print(\"哈哈哈ㄏpy\")\n"
   ]
  }
 ],
 "metadata": {
  "kernelspec": {
   "display_name": "base",
   "language": "python",
   "name": "python3"
  },
  "language_info": {
   "codemirror_mode": {
    "name": "ipython",
    "version": 3
   },
   "file_extension": ".py",
   "mimetype": "text/x-python",
   "name": "python",
   "nbconvert_exporter": "python",
   "pygments_lexer": "ipython3",
   "version": "3.11.3"
  }
 },
 "nbformat": 4,
 "nbformat_minor": 2
}
