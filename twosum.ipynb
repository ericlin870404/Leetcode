{
 "cells": [
  {
   "cell_type": "code",
   "execution_count": 17,
   "metadata": {},
   "outputs": [
    {
     "name": "stdout",
     "output_type": "stream",
     "text": [
      "i= 0\n",
      "9\n",
      "13\n",
      "17\n",
      "i= 1\n",
      "18\n",
      "i= 2\n",
      "26\n",
      "i= 3\n",
      "1 2\n"
     ]
    }
   ],
   "source": [
    "nums = [2, 7, 11, 15]\n",
    "target = 18\n",
    "# print(len(nums))\n",
    "for i in range(len(nums)):\n",
    "    print(\"i=\", i)\n",
    "    for j in range(i+1, len(nums)):\n",
    "        print(nums[i]+nums[j])\n",
    "        if nums[i]+nums[j] == target:\n",
    "            number1 = i\n",
    "            number2 = j\n",
    "            break\n",
    "print(number1, number2)\n"
   ]
  },
  {
   "cell_type": "code",
   "execution_count": 21,
   "metadata": {},
   "outputs": [],
   "source": [
    "# from typing import List\n",
    "\n",
    "# class Solution:\n",
    "#     def twoSum(self, nums: List[int], target: int) -> List[int]:\n",
    "#         for i in range(len(nums)):\n",
    "#             for j in range(i+1, len(nums)):\n",
    "#                 if nums[i]+nums[j] == target:\n",
    "#                     number1 = i\n",
    "#                     number2 = j\n",
    "#                     break\n",
    "#         return [number1, number2]\n"
   ]
  },
  {
   "cell_type": "code",
   "execution_count": null,
   "metadata": {},
   "outputs": [],
   "source": [
    "from typing import List\n",
    "\n",
    "class Solution:\n",
    "    def twoSum(self, nums: List[int], target: int) -> List[int]:\n",
    "        for i in range(len(nums)):\n",
    "            for j in range(i+1, len(nums)):\n",
    "                if nums[i]+nums[j] == target:\n",
    "                    return [i, j]  "
   ]
  },
  {
   "cell_type": "code",
   "execution_count": 22,
   "metadata": {},
   "outputs": [
    {
     "name": "stdout",
     "output_type": "stream",
     "text": [
      "[0, 1]\n"
     ]
    }
   ],
   "source": [
    "solution = Solution()  # 創建 Solution 的實例\n",
    "nums = [2, 7, 11, 15]  # 數字列表\n",
    "target = 9  # 目標值\n",
    "result = solution.twoSum(nums, target)  # 呼叫 twoSum 方法\n",
    "print(result)  # 輸出結果，應該是 [0, 1]，因為 nums[0] + nums[1] = 2 + 7 = 9"
   ]
  }
 ],
 "metadata": {
  "kernelspec": {
   "display_name": "base",
   "language": "python",
   "name": "python3"
  },
  "language_info": {
   "codemirror_mode": {
    "name": "ipython",
    "version": 3
   },
   "file_extension": ".py",
   "mimetype": "text/x-python",
   "name": "python",
   "nbconvert_exporter": "python",
   "pygments_lexer": "ipython3",
   "version": "3.11.3"
  }
 },
 "nbformat": 4,
 "nbformat_minor": 2
}
