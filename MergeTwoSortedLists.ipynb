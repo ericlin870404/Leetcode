{
 "cells": [
  {
   "cell_type": "markdown",
   "metadata": {},
   "source": [
    "Linked List範例"
   ]
  },
  {
   "cell_type": "code",
   "execution_count": 8,
   "metadata": {},
   "outputs": [],
   "source": [
    "class ListNode:\n",
    "    def __init__(self, val=0, next=None):\n",
    "        self.val = val  # 節點的值\n",
    "        self.next = next  # 下一個節點的指標"
   ]
  },
  {
   "cell_type": "markdown",
   "metadata": {},
   "source": [
    "建立初始節點&連接"
   ]
  },
  {
   "cell_type": "code",
   "execution_count": 9,
   "metadata": {},
   "outputs": [
    {
     "name": "stdout",
     "output_type": "stream",
     "text": [
      "1\n",
      "2\n",
      "3\n"
     ]
    }
   ],
   "source": [
    "# 建立節點\n",
    "node1 = ListNode(1)\n",
    "node2 = ListNode(2)\n",
    "node3 = ListNode(3)\n",
    "\n",
    "# 連接節點\n",
    "node1.next = node2  # node1 指向 node2\n",
    "node2.next = node3  # node2 指向 node3\n",
    "\n",
    "# 現在我們有了 1 -> 2 -> 3 的鏈結串列\n",
    "\n",
    "current_node = node1\n",
    "while current_node:\n",
    "    print(current_node.val)  # 輸出當前節點的值\n",
    "    current_node = current_node.next  # 移動到下一個節點"
   ]
  },
  {
   "cell_type": "markdown",
   "metadata": {},
   "source": [
    "插入節點(Insert)"
   ]
  },
  {
   "cell_type": "code",
   "execution_count": 10,
   "metadata": {},
   "outputs": [
    {
     "name": "stdout",
     "output_type": "stream",
     "text": [
      "1\n",
      "2\n",
      "4\n",
      "3\n"
     ]
    }
   ],
   "source": [
    "# 建立新節點\n",
    "new_node = ListNode(4)\n",
    "\n",
    "# 將新節點插入鏈結串列\n",
    "new_node.next = node2.next  # 新節點的 next 指向 node3\n",
    "node2.next = new_node  # node2 的 next 指向新節點\n",
    "\n",
    "# 現在鏈結串列變成了 1 -> 2 -> 4 -> 3\n",
    "\n",
    "current_node = node1\n",
    "while current_node:\n",
    "    print(current_node.val)  # 輸出當前節點的值\n",
    "    current_node = current_node.next  # 移動到下一個節點"
   ]
  },
  {
   "cell_type": "markdown",
   "metadata": {},
   "source": [
    "刪除節點(delete)"
   ]
  },
  {
   "cell_type": "code",
   "execution_count": 11,
   "metadata": {},
   "outputs": [
    {
     "name": "stdout",
     "output_type": "stream",
     "text": [
      "1\n",
      "4\n",
      "3\n"
     ]
    }
   ],
   "source": [
    "# 刪除節點 2\n",
    "node1.next = node2.next  # 直接讓 node1 的 next 指向 node2 的下一個節點（node4）\n",
    "\n",
    "# 現在鏈結串列變成了 1 -> 4 -> 3\n",
    "\n",
    "current_node = node1\n",
    "while current_node:\n",
    "    print(current_node.val)  # 輸出當前節點的值\n",
    "    current_node = current_node.next  # 移動到下一個節點"
   ]
  },
  {
   "cell_type": "markdown",
   "metadata": {},
   "source": [
    "題目內容"
   ]
  },
  {
   "cell_type": "code",
   "execution_count": 3,
   "metadata": {},
   "outputs": [],
   "source": [
    "class ListNode:\n",
    "    def __init__(self, val=0, next=None):\n",
    "        self.val = val  # 節點的值\n",
    "        self.next = next  # 下一個節點的指標"
   ]
  },
  {
   "cell_type": "code",
   "execution_count": 23,
   "metadata": {},
   "outputs": [
    {
     "name": "stdout",
     "output_type": "stream",
     "text": [
      "1\n",
      "2\n",
      "3\n",
      "3\n",
      "5\n",
      "6\n"
     ]
    }
   ],
   "source": [
    "list1 = [1, 3, 5]\n",
    "list2 = [2, 3, 6]\n",
    "\n",
    "# Step1: 將list1串接起來\n",
    "head = ListNode(list1[0])\n",
    "current_node = head\n",
    "\n",
    "for i in range(1, len(list1)):    \n",
    "    current_node.next = ListNode(list1[i])\n",
    "    current_node = current_node.next\n",
    "\n",
    "# Step2: 遍歷 list2，並將元素插入到 list1 中\n",
    "current_node = head\n",
    "\n",
    "for val in list2:\n",
    "    new_node = ListNode(val)\n",
    "    \n",
    "    # 如果 list2 的值應插入當前節點之後\n",
    "    while current_node.next and current_node.next.val < val:\n",
    "        current_node = current_node.next\n",
    "    \n",
    "    # 插入新節點\n",
    "    new_node.next = current_node.next\n",
    "    current_node.next = new_node\n",
    "    \n",
    "    # 將 current_node 更新為新插入的節點，繼續處理剩餘的元素\n",
    "    current_node = new_node\n",
    "\n",
    "# Step3: 遍歷最終的鏈結串列並輸出結果\n",
    "current_node = head\n",
    "while current_node:\n",
    "    print(current_node.val)  # 輸出當前節點的值\n",
    "    current_node = current_node.next  # 移動到下一個節點\n"
   ]
  },
  {
   "cell_type": "markdown",
   "metadata": {},
   "source": [
    "leetcode格式"
   ]
  },
  {
   "cell_type": "code",
   "execution_count": 9,
   "metadata": {},
   "outputs": [],
   "source": [
    "from typing import Optional\n",
    "\n",
    "# Definition for singly-linked list.\n",
    "class ListNode:\n",
    "    def __init__(self, val=0, next=None):\n",
    "        self.val = val\n",
    "        self.next = next\n",
    "\n",
    "class Solution:\n",
    "    def mergeTwoLists(self, list1: Optional[ListNode], list2: Optional[ListNode]) -> Optional[ListNode]:\n",
    "        # 創建一個 dummy 節點，最終返回 dummy.next 作為新的 head\n",
    "        dummy = ListNode()\n",
    "        current = dummy  # 用於追踪合併過程\n",
    "\n",
    "        # 比較 list1 和 list2 的節點，將較小的節點依次連接到新串列\n",
    "        while list1 and list2:\n",
    "            if list1.val < list2.val:\n",
    "                current.next = list1\n",
    "                list1 = list1.next\n",
    "            else:\n",
    "                current.next = list2\n",
    "                list2 = list2.next\n",
    "            current = current.next\n",
    "\n",
    "        # 連接剩餘節點（如果有的話）\n",
    "        current.next = list1 if list1 else list2\n",
    "\n",
    "        # 返回合併後的鏈結串列的 head\n",
    "        return dummy.next\n"
   ]
  }
 ],
 "metadata": {
  "kernelspec": {
   "display_name": "base",
   "language": "python",
   "name": "python3"
  },
  "language_info": {
   "codemirror_mode": {
    "name": "ipython",
    "version": 3
   },
   "file_extension": ".py",
   "mimetype": "text/x-python",
   "name": "python",
   "nbconvert_exporter": "python",
   "pygments_lexer": "ipython3",
   "version": "3.11.3"
  },
  "orig_nbformat": 4
 },
 "nbformat": 4,
 "nbformat_minor": 2
}
