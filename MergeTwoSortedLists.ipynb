{
 "cells": [
  {
   "cell_type": "code",
   "execution_count": 2,
   "metadata": {},
   "outputs": [],
   "source": [
    "class ListNode:\n",
    "    def __init__(self, val=0, next=None):\n",
    "        self.val = val  # 節點的值\n",
    "        self.next = next  # 下一個節點的指標\n"
   ]
  },
  {
   "cell_type": "code",
   "execution_count": 5,
   "metadata": {},
   "outputs": [],
   "source": [
    "# 建立節點\n",
    "node1 = ListNode(1)\n",
    "node2 = ListNode(2)\n",
    "node3 = ListNode(3)\n",
    "\n",
    "# 連接節點\n",
    "node1.next = node2  # node1 指向 node2\n",
    "node2.next = node3  # node2 指向 node3\n",
    "\n",
    "# 現在我們有了 1 -> 2 -> 3 的鏈結串列"
   ]
  },
  {
   "cell_type": "code",
   "execution_count": 7,
   "metadata": {},
   "outputs": [],
   "source": [
    "# 建立新節點\n",
    "new_node = ListNode(4)\n",
    "\n",
    "# 將新節點插入鏈結串列\n",
    "new_node.next = node2.next  # 新節點的 next 指向 node3\n",
    "node2.next = new_node  # node2 的 next 指向新節點\n",
    "\n",
    "# 現在鏈結串列變成了 1 -> 2 -> 4 -> 3\n"
   ]
  },
  {
   "cell_type": "code",
   "execution_count": 9,
   "metadata": {},
   "outputs": [],
   "source": [
    "# 刪除節點 2\n",
    "node1.next = node2.next  # 直接讓 node1 的 next 指向 node2 的下一個節點（node4）\n",
    "\n",
    "# 現在鏈結串列變成了 1 -> 4 -> 3\n"
   ]
  },
  {
   "cell_type": "code",
   "execution_count": 10,
   "metadata": {},
   "outputs": [
    {
     "name": "stdout",
     "output_type": "stream",
     "text": [
      "1\n",
      "4\n",
      "3\n"
     ]
    }
   ],
   "source": [
    "current_node = node1\n",
    "while current_node:\n",
    "    print(current_node.val)  # 輸出當前節點的值\n",
    "    current_node = current_node.next  # 移動到下一個節點"
   ]
  },
  {
   "cell_type": "code",
   "execution_count": 22,
   "metadata": {},
   "outputs": [],
   "source": [
    "class ListNode:\n",
    "    def __init__(self, val=0, next=None):\n",
    "        self.val = val  # 節點的值\n",
    "        self.next = next  # 下一個節點的指標"
   ]
  },
  {
   "cell_type": "code",
   "execution_count": 32,
   "metadata": {},
   "outputs": [],
   "source": [
    "list1 = [1,2,4,5,7]\n",
    "\n",
    "head = ListNode(list1[0])\n",
    "current_node = head\n",
    "\n",
    "for i in range(1,len(list1)):    \n",
    "    current_node.next = ListNode(list1[i])\n",
    "    current_node = ListNode(list1[i])"
   ]
  },
  {
   "cell_type": "code",
   "execution_count": 33,
   "metadata": {},
   "outputs": [
    {
     "name": "stdout",
     "output_type": "stream",
     "text": [
      "1\n",
      "2\n",
      "4\n"
     ]
    }
   ],
   "source": [
    "# 遍歷鏈結串列並輸出\n",
    "current_node = head\n",
    "while current_node:\n",
    "    print(current_node.val)  # 輸出當前節點的值\n",
    "    current_node = current_node.next  # 移動到下一個節點\n",
    "\n",
    "# 輸出的結果應該是:\n",
    "# 1\n",
    "# 2\n",
    "# 4\n"
   ]
  },
  {
   "cell_type": "code",
   "execution_count": 24,
   "metadata": {},
   "outputs": [
    {
     "name": "stdout",
     "output_type": "stream",
     "text": [
      "[1, 2, 4, 1, 3, 4]\n",
      "1\n"
     ]
    }
   ],
   "source": [
    "list1 = [1,2,4]\n",
    "list2 = [1,3,4]\n",
    "tempList = list1+list2\n",
    "print(tempList)\n",
    "\n",
    "\n",
    "for i in range(len(tempList)):\n",
    "    temp = ListNode(tempList[i])\n",
    "    \n",
    "\n",
    "\n",
    "current_node = ListNode(tempList[0])\n",
    "while current_node:\n",
    "    print(current_node.val)  # 輸出當前節點的值\n",
    "    current_node = current_node.next  # 移動到下一個節點\n",
    "\n",
    "\n",
    "# for i in range(len(tempList)):\n",
    "#     temp = tempList[i]\n",
    "#     for j in range(i+1, len(tempList)):\n",
    "#         if temp >= tempList[j]:\n",
    "\n",
    "#             print(temp)"
   ]
  }
 ],
 "metadata": {
  "kernelspec": {
   "display_name": "base",
   "language": "python",
   "name": "python3"
  },
  "language_info": {
   "codemirror_mode": {
    "name": "ipython",
    "version": 3
   },
   "file_extension": ".py",
   "mimetype": "text/x-python",
   "name": "python",
   "nbconvert_exporter": "python",
   "pygments_lexer": "ipython3",
   "version": "3.11.5"
  },
  "orig_nbformat": 4
 },
 "nbformat": 4,
 "nbformat_minor": 2
}
